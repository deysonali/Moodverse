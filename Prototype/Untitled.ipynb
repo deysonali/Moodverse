{
 "cells": [
  {
   "cell_type": "code",
   "execution_count": 2,
   "metadata": {},
   "outputs": [],
   "source": [
    "from textgenrnn import textgenrnn"
   ]
  },
  {
   "cell_type": "code",
   "execution_count": 3,
   "metadata": {},
   "outputs": [
    {
     "name": "stdout",
     "output_type": "stream",
     "text": [
      "--2020-01-19 06:22:03--  http://www.freebooks.com/download-ready/?file=805\n",
      "Resolving www.freebooks.com (www.freebooks.com)... 69.46.0.196\n",
      "Connecting to www.freebooks.com (www.freebooks.com)|69.46.0.196|:80... connected.\n",
      "HTTP request sent, awaiting response... 302 Moved Temporarily\n",
      "Location: http://www.freebooks.com/thank-you/?file=805 [following]\n",
      "--2020-01-19 06:22:04--  http://www.freebooks.com/thank-you/?file=805\n",
      "Reusing existing connection to www.freebooks.com:80.\n",
      "HTTP request sent, awaiting response... 200 OK\n",
      "Length: unspecified [text/html]\n",
      "Saving to: ‘index.html?file=805’\n",
      "\n",
      "index.html?file=805     [ <=>                ]  44.63K  --.-KB/s    in 0.08s   \n",
      "\n",
      "2020-01-19 06:22:04 (558 KB/s) - ‘index.html?file=805’ saved [45704]\n",
      "\n"
     ]
    }
   ],
   "source": [
    "! wget http://www.freebooks.com/download-ready/?file=805"
   ]
  }
 ],
 "metadata": {
  "kernelspec": {
   "display_name": "Python 3",
   "language": "python",
   "name": "python3"
  },
  "language_info": {
   "codemirror_mode": {
    "name": "ipython",
    "version": 3
   },
   "file_extension": ".py",
   "mimetype": "text/x-python",
   "name": "python",
   "nbconvert_exporter": "python",
   "pygments_lexer": "ipython3",
   "version": "3.6.9"
  }
 },
 "nbformat": 4,
 "nbformat_minor": 4
}
