{
 "cells": [
  {
   "cell_type": "code",
   "execution_count": 17,
   "metadata": {},
   "outputs": [],
   "source": [
    "%%capture\n",
    "from keras.models import load_model\n",
    "model = load_model(r\"../Models/joy_v_reddit.hd5\")"
   ]
  },
  {
   "cell_type": "code",
   "execution_count": 18,
   "metadata": {},
   "outputs": [],
   "source": [
    "import sys\n",
    "sys.path.append(r\"../Training\")\n",
    "from LSTM import *"
   ]
  },
  {
   "cell_type": "code",
   "execution_count": 21,
   "metadata": {},
   "outputs": [],
   "source": [
    "from keras.preprocessing.sequence import pad_sequences\n",
    "from keras import backend as K\n",
    "tf = K.tensorflow_backend.tf\n",
    "\n",
    "def encode(sentence):\n",
    "    X = []\n",
    "    for word in sentence.split(\" \"):\n",
    "        try:\n",
    "            X.append(word2id[word])\n",
    "        except:\n",
    "            pass\n",
    "    # Apply Padding to X\n",
    "    X = pad_sequences([X], max_words)\n",
    "    return X"
   ]
  },
  {
   "cell_type": "code",
   "execution_count": 24,
   "metadata": {},
   "outputs": [],
   "source": [
    "def predict(sample):\n",
    "    o = model.predict(encode(sample.lower()))\n",
    "    print(o[0])\n",
    "    return id2label[np.argmax(o[0])]"
   ]
  },
  {
   "cell_type": "code",
   "execution_count": 28,
   "metadata": {},
   "outputs": [
    {
     "name": "stdout",
     "output_type": "stream",
     "text": [
      "i recently explained to my girlfriend of 3 years that stuffed animals help me with my anxiety. this was her gift to me today. \n",
      "[9.0709706e-05 9.9990928e-01]\n"
     ]
    },
    {
     "data": {
      "text/plain": [
       "'sadness'"
      ]
     },
     "execution_count": 28,
     "metadata": {},
     "output_type": "execute_result"
    }
   ],
   "source": [
    "import random\n",
    "\n",
    "sample = dataset[\"text\"].values.tolist()[random.randint(0, len(dataset)-1)]\n",
    "print(sample)\n",
    "\n",
    "# sample = \"I just had a midterm today, it was the worst I've ever written.\"\n",
    "predict(sample)"
   ]
  },
  {
   "cell_type": "code",
   "execution_count": 147,
   "metadata": {},
   "outputs": [],
   "source": [
    "class Sequence:\n",
    "    \n",
    "    def __init__(self, methods):\n",
    "        self.methods = methods\n",
    "        self.untouched = True\n",
    "        self.last = self.methods[0]\n",
    "\n",
    "    def _get_pos(self, method):\n",
    "        return self.methods.index(method)\n",
    "    \n",
    "    def next(self):\n",
    "        i = self._get_pos(self.last)\n",
    "        if self.untouched:\n",
    "            self.untouched = False\n",
    "            return self.methods[i]\n",
    "        \n",
    "        next_i = i+1\n",
    "        if next_i <= len(self.methods)-1:\n",
    "            self.last = self.methods[next_i]\n",
    "            return self.methods[next_i]\n",
    "    "
   ]
  },
  {
   "cell_type": "code",
   "execution_count": 148,
   "metadata": {},
   "outputs": [],
   "source": [
    "c = Sequence([i for i in range(5)])"
   ]
  },
  {
   "cell_type": "code",
   "execution_count": 154,
   "metadata": {},
   "outputs": [],
   "source": [
    "c.next()"
   ]
  },
  {
   "cell_type": "code",
   "execution_count": null,
   "metadata": {},
   "outputs": [],
   "source": []
  }
 ],
 "metadata": {
  "kernelspec": {
   "display_name": "Python 3",
   "language": "python",
   "name": "python3"
  },
  "language_info": {
   "codemirror_mode": {
    "name": "ipython",
    "version": 3
   },
   "file_extension": ".py",
   "mimetype": "text/x-python",
   "name": "python",
   "nbconvert_exporter": "python",
   "pygments_lexer": "ipython3",
   "version": "3.6.9"
  }
 },
 "nbformat": 4,
 "nbformat_minor": 4
}
