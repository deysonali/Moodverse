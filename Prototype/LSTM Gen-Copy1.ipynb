{
 "cells": [
  {
   "cell_type": "code",
   "execution_count": 1,
   "metadata": {},
   "outputs": [],
   "source": [
    "%%capture\n",
    "from keras.models import load_model\n",
    "model = load_model(r\"../Models/msg_flag_epochs=2, batch_size=64, validation_split=0.1,.h5\")\n",
    "# model.compile(loss=\"binary_crossentropy\", metrics=[\"accuracy\"], optimizer=Adam(lr=0.001))"
   ]
  },
  {
   "cell_type": "code",
   "execution_count": 2,
   "metadata": {},
   "outputs": [
    {
     "name": "stdout",
     "output_type": "stream",
     "text": [
      "7136 7136\n",
      "Shape of X: (14272, 5425)\n",
      "Shape of Y: (14272, 2)\n"
     ]
    }
   ],
   "source": [
    "import sys\n",
    "sys.path.append(r\"../Training\")\n",
    "from LSTM import *"
   ]
  },
  {
   "cell_type": "code",
   "execution_count": 71,
   "metadata": {},
   "outputs": [],
   "source": [
    "from keras.preprocessing.sequence import pad_sequences\n",
    "from keras import backend as K\n",
    "tf = K.tensorflow_backend.tf\n",
    "\n",
    "def encode(sentence):\n",
    "    X = []\n",
    "    for word in sentence.split(\" \"):\n",
    "        try:\n",
    "            X.append(word2id[word])\n",
    "        except:\n",
    "            pass\n",
    "    # Apply Padding to X\n",
    "    X = pad_sequences([X], max_words)\n",
    "    return X"
   ]
  },
  {
   "cell_type": "code",
   "execution_count": 72,
   "metadata": {},
   "outputs": [],
   "source": [
    "def predict(sample):\n",
    "    o = model.predict(encode(sample.lower()))\n",
    "#     print(o[0])\n",
    "    return id2label[np.argmin(o[0])]"
   ]
  },
  {
   "cell_type": "code",
   "execution_count": 74,
   "metadata": {},
   "outputs": [
    {
     "data": {
      "text/plain": [
       "'sadness'"
      ]
     },
     "execution_count": 74,
     "metadata": {},
     "output_type": "execute_result"
    }
   ],
   "source": [
    "import random\n",
    "\n",
    "# sample = dataset[\"text\"].values.tolist()[random.randint(0, len(dataset)-1)]\n",
    "# print(sample)\n",
    "\n",
    "sample = \"I just had a midterm today, it was the worst I've ever written.\"\n",
    "predict(sample)"
   ]
  },
  {
   "cell_type": "code",
   "execution_count": null,
   "metadata": {},
   "outputs": [],
   "source": [
    "word2id, max_words, id2label,"
   ]
  }
 ],
 "metadata": {
  "kernelspec": {
   "display_name": "Python 3",
   "language": "python",
   "name": "python3"
  },
  "language_info": {
   "codemirror_mode": {
    "name": "ipython",
    "version": 3
   },
   "file_extension": ".py",
   "mimetype": "text/x-python",
   "name": "python",
   "nbconvert_exporter": "python",
   "pygments_lexer": "ipython3",
   "version": "3.6.9"
  }
 },
 "nbformat": 4,
 "nbformat_minor": 4
}
