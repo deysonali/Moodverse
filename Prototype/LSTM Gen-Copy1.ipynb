{
 "cells": [
  {
   "cell_type": "code",
   "execution_count": 52,
   "metadata": {},
   "outputs": [],
   "source": [
    "%%capture\n",
    "from keras.models import load_model\n",
    "model = load_model(r\"../Models/msg_flag_epochs=2, batch_size=64, validation_split=0.1,.h5\")\n",
    "model.compile(loss=\"binary_crossentropy\", metrics=[\"accuracy\"], optimizer=Adam(lr=0.001))"
   ]
  },
  {
   "cell_type": "code",
   "execution_count": 2,
   "metadata": {},
   "outputs": [
    {
     "name": "stdout",
     "output_type": "stream",
     "text": [
      "7136 7136\n",
      "Shape of X: (14272, 5425)\n",
      "Shape of Y: (14272, 2)\n"
     ]
    }
   ],
   "source": [
    "import sys\n",
    "sys.path.append(r\"../Training\")\n",
    "from LSTM import *"
   ]
  },
  {
   "cell_type": "code",
   "execution_count": 3,
   "metadata": {},
   "outputs": [
    {
     "data": {
      "text/plain": [
       "'i am one of those people who feels like going to the gym is only worthwhile if you can be there for an hour or more'"
      ]
     },
     "execution_count": 3,
     "metadata": {},
     "output_type": "execute_result"
    }
   ],
   "source": [
    "sample = dataset[\"text\"].values.tolist()[1]\n",
    "sample"
   ]
  },
  {
   "cell_type": "code",
   "execution_count": 67,
   "metadata": {},
   "outputs": [],
   "source": [
    "from keras.preprocessing.sequence import pad_sequences\n",
    "from keras import backend as K\n",
    "tf = K.tensorflow_backend.tf\n",
    "\n",
    "def encode(sentence):\n",
    "    X = [[word2id[word] for word in sentence] for sentence in input_sentences]\n",
    "    # Apply Padding to X\n",
    "    X = pad_sequences(X, max_words)\n",
    "    return X\n",
    "#     return tf.convert_to_tensor(X)"
   ]
  },
  {
   "cell_type": "code",
   "execution_count": null,
   "metadata": {},
   "outputs": [
    {
     "name": "stdout",
     "output_type": "stream",
     "text": [
      " 6304/14272 [============>.................] - ETA: 6:27"
     ]
    }
   ],
   "source": [
    "model.predict(encode(sample), verbose=1)"
   ]
  },
  {
   "cell_type": "code",
   "execution_count": 53,
   "metadata": {},
   "outputs": [],
   "source": [
    "r = model(encode(sample))"
   ]
  }
 ],
 "metadata": {
  "kernelspec": {
   "display_name": "Python 3",
   "language": "python",
   "name": "python3"
  },
  "language_info": {
   "codemirror_mode": {
    "name": "ipython",
    "version": 3
   },
   "file_extension": ".py",
   "mimetype": "text/x-python",
   "name": "python",
   "nbconvert_exporter": "python",
   "pygments_lexer": "ipython3",
   "version": "3.6.9"
  }
 },
 "nbformat": 4,
 "nbformat_minor": 4
}
