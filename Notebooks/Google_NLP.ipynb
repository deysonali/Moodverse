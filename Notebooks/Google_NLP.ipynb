{
 "cells": [
  {
   "cell_type": "markdown",
   "metadata": {},
   "source": [
    "# Setup NLP lib"
   ]
  },
  {
   "cell_type": "code",
   "execution_count": 1,
   "metadata": {
    "scrolled": false
   },
   "outputs": [],
   "source": [
    "# ! pip3 install --upgrade -q google-cloud-language\n",
    "# ! pip3 install --upgrade -q google-cloud-storage"
   ]
  },
  {
   "cell_type": "code",
   "execution_count": 2,
   "metadata": {},
   "outputs": [],
   "source": [
    "import os\n",
    "os.environ[\"GOOGLE_APPLICATION_CREDENTIALS\"]=\"./Mind-66b4ebafbf0a.json\""
   ]
  },
  {
   "cell_type": "code",
   "execution_count": 3,
   "metadata": {},
   "outputs": [],
   "source": [
    "# Imports the Google Cloud client library\n",
    "from google.cloud import language\n",
    "from google.cloud.language import enums\n",
    "from google.cloud.language import types\n",
    "\n",
    "# Instantiates a client\n",
    "client = language.LanguageServiceClient()"
   ]
  },
  {
   "cell_type": "code",
   "execution_count": 5,
   "metadata": {},
   "outputs": [
    {
     "name": "stdout",
     "output_type": "stream",
     "text": [
      "Text: Hello, world!\n",
      "Sentiment: 0.30000001192092896, 0.30000001192092896\n"
     ]
    }
   ],
   "source": [
    "# The text to analyze\n",
    "text = u'Hello, world!'\n",
    "document = types.Document(\n",
    "    content=text,\n",
    "    type=enums.Document.Type.PLAIN_TEXT)\n",
    "\n",
    "# Detects the sentiment of the text\n",
    "sentiment = client.analyze_sentiment(document=document).document_sentiment\n",
    "\n",
    "print('Text: {}'.format(text))\n",
    "print('Sentiment: {}, {}'.format(sentiment.score, sentiment.magnitude))"
   ]
  },
  {
   "cell_type": "code",
   "execution_count": 12,
   "metadata": {},
   "outputs": [
    {
     "data": {
      "text/plain": [
       "entities {\n",
       "  name: \"failure\"\n",
       "  type: EVENT\n",
       "  salience: 0.8988420963287354\n",
       "  mentions {\n",
       "    text {\n",
       "      content: \"failure\"\n",
       "      begin_offset: -1\n",
       "    }\n",
       "    type: COMMON\n",
       "    sentiment {\n",
       "      magnitude: 0.10000000149011612\n",
       "      score: -0.10000000149011612\n",
       "    }\n",
       "  }\n",
       "  sentiment {\n",
       "    magnitude: 1.0\n",
       "    score: -0.20000000298023224\n",
       "  }\n",
       "}\n",
       "entities {\n",
       "  name: \"midterm\"\n",
       "  type: OTHER\n",
       "  salience: 0.10115787386894226\n",
       "  mentions {\n",
       "    text {\n",
       "      content: \"midterm\"\n",
       "      begin_offset: -1\n",
       "    }\n",
       "    type: COMMON\n",
       "    sentiment {\n",
       "      magnitude: 0.800000011920929\n",
       "      score: -0.800000011920929\n",
       "    }\n",
       "  }\n",
       "  sentiment {\n",
       "    magnitude: 0.800000011920929\n",
       "    score: -0.800000011920929\n",
       "  }\n",
       "}\n",
       "language: \"en\""
      ]
     },
     "execution_count": 12,
     "metadata": {},
     "output_type": "execute_result"
    }
   ],
   "source": [
    "text = u'I failed my midterm and I\\'m a failure!'\n",
    "document = types.Document(\n",
    "    content=text,\n",
    "    type=enums.Document.Type.PLAIN_TEXT)\n",
    "client.analyze_entity_sentiment(document=document)"
   ]
  }
 ],
 "metadata": {
  "kernelspec": {
   "display_name": "Python 3",
   "language": "python",
   "name": "python3"
  },
  "language_info": {
   "codemirror_mode": {
    "name": "ipython",
    "version": 3
   },
   "file_extension": ".py",
   "mimetype": "text/x-python",
   "name": "python",
   "nbconvert_exporter": "python",
   "pygments_lexer": "ipython3",
   "version": "3.6.9"
  }
 },
 "nbformat": 4,
 "nbformat_minor": 2
}
