{
 "cells": [
  {
   "cell_type": "code",
   "execution_count": 3,
   "metadata": {
    "scrolled": true
   },
   "outputs": [],
   "source": [
    "%%capture\n",
    "import textgenrnn"
   ]
  },
  {
   "cell_type": "markdown",
   "metadata": {},
   "source": [
    "## Load data"
   ]
  },
  {
   "cell_type": "code",
   "execution_count": 16,
   "metadata": {},
   "outputs": [],
   "source": [
    "path = \"../Datasets/Reddit/post_comments.pickle\"\n",
    "import pickle\n",
    "reddit_data = pickle.load(open(path, \"rb\"))"
   ]
  },
  {
   "cell_type": "code",
   "execution_count": 28,
   "metadata": {},
   "outputs": [],
   "source": [
    "comments = []\n",
    "for k in reddit_data:\n",
    "    sub = reddit_data[k]\n",
    "    cmnts = [p[1] for p in sub]\n",
    "    comments += cmnts"
   ]
  },
  {
   "cell_type": "code",
   "execution_count": 30,
   "metadata": {},
   "outputs": [],
   "source": [
    "f = open(\"../Datasets/Reddit/comments.txt\", \"w\")\n",
    "[f.write(comment + \"\\n\") for comment in comments]\n",
    "f.close()"
   ]
  },
  {
   "cell_type": "code",
   "execution_count": 32,
   "metadata": {},
   "outputs": [],
   "source": [
    "model_cfg = {\n",
    "    'rnn_size': 128,\n",
    "    'rnn_layers': 12,\n",
    "    'rnn_bidirectional': True,\n",
    "    'max_length': 15,\n",
    "    'max_words': 10000,\n",
    "    'dim_embeddings': 100,\n",
    "    'word_level': False,\n",
    "}\n",
    "train_cfg = {\n",
    "    'line_delimited': True,\n",
    "    'num_epochs': 50,\n",
    "    'gen_epochs': 10,\n",
    "    'batch_size': 10,\n",
    "    'train_size': 1.0,\n",
    "    'dropout': 0.0,\n",
    "    'max_gen_length': 300,\n",
    "    'validation': False,\n",
    "    'is_csv': False\n",
    "}"
   ]
  },
  {
   "cell_type": "code",
   "execution_count": null,
   "metadata": {},
   "outputs": [
    {
     "name": "stdout",
     "output_type": "stream",
     "text": [
      "398 texts collected.\n",
      "Training on 80,122 character sequences.\n",
      "Epoch 1/50\n",
      " 499/8012 [>.............................] - ETA: 9:10 - loss: 2.3373"
     ]
    }
   ],
   "source": [
    "model_name = 'test_reddit'\n",
    "textgen = textgenrnn(name=model_name)\n",
    "train_function = textgen.train_from_file if train_cfg['line_delimited'] else textgen.train_from_largetext_file\n",
    "train_function(\n",
    "    file_path=\"../Datasets/Reddit/comments.txt\",\n",
    "#     new_model=True,\n",
    "    num_epochs=train_cfg['num_epochs'],\n",
    "    gen_epochs=train_cfg['gen_epochs'],\n",
    "    batch_size=train_cfg['batch_size'],\n",
    "    train_size=train_cfg['train_size'],\n",
    "    dropout=train_cfg['dropout'],\n",
    "    max_gen_length=train_cfg['max_gen_length'],\n",
    "    validation=train_cfg['validation'],\n",
    "    is_csv=train_cfg['is_csv'],\n",
    "    rnn_layers=model_cfg['rnn_layers'],\n",
    "    rnn_size=model_cfg['rnn_size'],\n",
    "    rnn_bidirectional=model_cfg['rnn_bidirectional'],\n",
    "    max_length=model_cfg['max_length'],\n",
    "    dim_embeddings=model_cfg['dim_embeddings'],\n",
    "    word_level=model_cfg['word_level']\n",
    ")"
   ]
  }
 ],
 "metadata": {
  "kernelspec": {
   "display_name": "Python 3",
   "language": "python",
   "name": "python3"
  },
  "language_info": {
   "codemirror_mode": {
    "name": "ipython",
    "version": 3
   },
   "file_extension": ".py",
   "mimetype": "text/x-python",
   "name": "python",
   "nbconvert_exporter": "python",
   "pygments_lexer": "ipython3",
   "version": "3.6.9"
  }
 },
 "nbformat": 4,
 "nbformat_minor": 4
}
